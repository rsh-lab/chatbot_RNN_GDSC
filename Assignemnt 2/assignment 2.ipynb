{
 "cells": [
  {
   "cell_type": "code",
   "execution_count": 7,
   "id": "e9f2eba6-fa9b-4737-934f-d1b6baf91817",
   "metadata": {},
   "outputs": [
    {
     "name": "stderr",
     "output_type": "stream",
     "text": [
      "[nltk_data] Downloading package punkt to\n",
      "[nltk_data]     C:\\Users\\USER\\AppData\\Roaming\\nltk_data...\n",
      "[nltk_data]   Package punkt is already up-to-date!\n"
     ]
    }
   ],
   "source": [
    "#loading necessary libraries\n",
    "import nltk\n",
    "nltk.download(\"punkt\")\n",
    "import pandas as pd\n",
    "from nltk.stem import WordNetLemmatizer\n",
    "from nltk.tokenize import word_tokenize\n",
    "from nltk.corpus import stopwords\n",
    "from sklearn.feature_extraction.text import TfidfVectorizer\n",
    "from sklearn import model_selection, naive_bayes, svm\n",
    "from sklearn.metrics import accuracy_score\n",
    "import numpy as np\n",
    "#from collections import defaultdict\n",
    "#from nltk import pos_tag\n",
    "from nltk.stem import PorterStemmer "
   ]
  },
  {
   "cell_type": "code",
   "execution_count": 8,
   "id": "ee6e4c4f-d10a-4505-b6dd-049f1e306949",
   "metadata": {},
   "outputs": [],
   "source": [
    "#setting same randomization every time \n",
    "np.random.seed(500)\n"
   ]
  },
  {
   "cell_type": "code",
   "execution_count": 9,
   "id": "6ced66a6-3463-40ff-ade9-4513b7470374",
   "metadata": {},
   "outputs": [],
   "source": [
    "init_df=pd.read_csv(\"train main.csv\" , encoding=\"latin-1\", usecols=['category','text'] , delimiter=\",\")"
   ]
  },
  {
   "cell_type": "code",
   "execution_count": 10,
   "id": "405c1379-a1a3-40ca-a944-781865724a9c",
   "metadata": {},
   "outputs": [],
   "source": [
    "#cleaning and tokenizing begins\n",
    "init_df[\"text\"].dropna(inplace=True)\n",
    "init_df['text']=[entry.lower() for entry in init_df['text']]\n",
    "init_df['text']= [word_tokenize(entry) for entry in init_df['text']]"
   ]
  },
  {
   "cell_type": "code",
   "execution_count": 11,
   "id": "52da3e51-f97d-4714-9ebe-8ccb780ed53c",
   "metadata": {},
   "outputs": [
    {
     "data": {
      "text/plain": [
       "category\n",
       "sport            511\n",
       "business         510\n",
       "politics         417\n",
       "tech             401\n",
       "entertainment    386\n",
       "Name: count, dtype: int64"
      ]
     },
     "execution_count": 11,
     "metadata": {},
     "output_type": "execute_result"
    }
   ],
   "source": [
    "#check if the categoris have nearly same number of texts\n",
    "init_df['category'].value_counts()"
   ]
  },
  {
   "cell_type": "code",
   "execution_count": null,
   "id": "13d29081-8e63-4eb0-a4b4-cae11671dcf5",
   "metadata": {
    "scrolled": true
   },
   "outputs": [
    {
     "name": "stderr",
     "output_type": "stream",
     "text": [
      "C:\\Users\\USER\\AppData\\Local\\Temp\\ipykernel_14032\\2635318096.py:11: FutureWarning: Setting an item of incompatible dtype is deprecated and will raise in a future error of pandas. Value '['tv', 'futur', 'hand', 'viewer', 'home', 'theatr', 'system', 'plasma', 'high-definition', 'tv', 'digit', 'video', 'record', 'move', 'live', 'room', 'way', 'peopl', 'watch', 'tv', 'radic', 'differ', 'five', 'year', 'time', '.', 'accord', 'expert', 'panel', 'gather', 'annual', 'consum', 'electron', 'show', 'la', 'vega', 'discuss', 'new', 'technolog', 'impact', 'one', 'favourit', 'pastim', '.', 'us', 'lead', 'trend', 'programm', 'content', 'deliv', 'viewer', 'via', 'home', 'network', 'cabl', 'satellit', 'telecom', 'compani', 'broadband', 'servic', 'provid', 'front', 'room', 'portabl', 'devic', '.', 'one', 'talked-about', 'technolog', 'ce', 'digit', 'person', 'video', 'record', '(', 'dvr', 'pvr', ')', '.', 'set-top', 'box', 'like', 'us', 'tivo', 'uk', 'sky+', 'system', 'allow', 'peopl', 'record', 'store', 'play', 'paus', 'forward', 'wind', 'tv', 'programm', 'want', '.', 'essenti', 'technolog', 'allow', 'much', 'personalis', 'tv', '.', 'also', 'built-in', 'high-definition', 'tv', 'set', 'big', 'busi', 'japan', 'us', 'slower', 'take', 'europ', 'lack', 'high-definition', 'program', '.', 'peopl', 'forward', 'wind', 'advert', 'also', 'forget', 'abid', 'network', 'channel', 'schedul', 'put', 'togeth', 'a-la-carte', 'entertain', '.', 'us', 'network', 'cabl', 'satellit', 'compani', 'worri', 'mean', 'term', 'advertis', 'revenu', 'well', 'brand', 'ident', 'viewer', 'loyalti', 'channel', '.', 'although', 'us', 'lead', 'technolog', 'moment', 'also', 'concern', 'rais', 'europ', 'particularli', 'grow', 'uptak', 'servic', 'like', 'sky+', '.', 'happen', 'today', 'see', 'nine', 'month', 'year', 'time', 'uk', 'adam', 'hume', 'bbc', 'broadcast', 'futurologist', 'told', 'bbc', 'news', 'websit', '.', 'like', 'bbc', 'issu', 'lost', 'advertis', 'revenu', 'yet', '.', 'press', 'issu', 'moment', 'commerci', 'uk', 'broadcast', 'brand', 'loyalti', 'import', 'everyon', '.', 'talk', 'content', 'brand', 'rather', 'network', 'brand', 'said', 'tim', 'hanlon', 'brand', 'commun', 'firm', 'starcom', 'mediavest', '.', 'realiti', 'broadband', 'connect', 'anybodi', 'produc', 'content', '.', 'ad', ':', 'challeng', 'hard', 'promot', 'programm', 'much', 'choic', '.', 'mean', 'said', 'stacey', 'jolna', 'senior', 'vice', 'presid', 'tv', 'guid', 'tv', 'group', 'way', 'peopl', 'find', 'content', 'want', 'watch', 'simplifi', 'tv', 'viewer', '.', 'mean', 'network', 'us', 'term', 'channel', 'could', 'take', 'leaf', 'googl', 'book', 'search', 'engin', 'futur', 'instead', 'schedul', 'help', 'peopl', 'find', 'want', 'watch', '.', 'kind', 'channel', 'model', 'might', 'work', 'younger', 'ipod', 'gener', 'use', 'take', 'control', 'gadget', 'play', '.', 'might', 'suit', 'everyon', 'panel', 'recognis', '.', 'older', 'gener', 'comfort', 'familiar', 'schedul', 'channel', 'brand', 'know', 'get', '.', 'perhap', 'want', 'much', 'choic', 'put', 'hand', 'mr', 'hanlon', 'suggest', '.', 'end', 'kid', 'diaper', 'push', 'button', 'alreadi', '-', 'everyth', 'possibl', 'avail', 'said', 'mr', 'hanlon', '.', 'ultim', 'consum', 'tell', 'market', 'want', '.', '50', '000', 'new', 'gadget', 'technolog', 'showcas', 'ce', 'mani', 'enhanc', 'tv-watching', 'experi', '.', 'high-definition', 'tv', 'set', 'everywher', 'mani', 'new', 'model', 'lcd', '(', 'liquid', 'crystal', 'display', ')', 'tv', 'launch', 'dvr', 'capabl', 'built', 'instead', 'extern', 'box', '.', 'one', 'exampl', 'launch', 'show', 'humax', '26-inch', 'lcd', 'tv', '80-hour', 'tivo', 'dvr', 'dvd', 'record', '.', 'one', 'us', 'biggest', 'satellit', 'tv', 'compani', 'directtv', 'even', 'launch', 'brand', 'dvr', 'show', '100-hours', 'record', 'capabl', 'instant', 'replay', 'search', 'function', '.', 'set', 'paus', 'rewind', 'tv', '90', 'hour', '.', 'microsoft', 'chief', 'bill', 'gate', 'announc', 'pre-show', 'keynot', 'speech', 'partnership', 'tivo', 'call', 'tivotogo', 'mean', 'peopl', 'play', 'record', 'programm', 'window', 'pc', 'mobil', 'devic', '.', 'reflect', 'increas', 'trend', 'free', 'multimedia', 'peopl', 'watch', 'want', 'want', '.']' has dtype incompatible with float64, please explicitly cast to a compatible dtype first.\n",
      "  init_df.loc[index,'cleaned_text']=str(Final_words)\n"
     ]
    }
   ],
   "source": [
    "lemmatizer= WordNetLemmatizer()\n",
    "Stemmer = PorterStemmer()\n",
    "for index, entry in enumerate(init_df['text']) :\n",
    "    Final_words = []\n",
    "    for word in entry :\n",
    "           if word not in stopwords.words('english') and word.isalpha() :\n",
    "            word_Final = Stemmer.stem(word)\n",
    "            Final_words.append(word_Final)\n",
    "           elif not word.isalpha(): \n",
    "                Final_words.append(word)\n",
    "    init_df.loc[index,'cleaned_text']=str(Final_words)    \n",
    "    "
   ]
  },
  {
   "cell_type": "code",
   "execution_count": null,
   "id": "813039f6-a6e2-41e4-ba38-1d8429850ea1",
   "metadata": {},
   "outputs": [],
   "source": [
    "Train_X, Test_X, Train_Y, Test_Y = model_selection.train_test_split(init_df['cleaned_text'],init_df['category'],test_size=0.2)"
   ]
  },
  {
   "cell_type": "code",
   "execution_count": null,
   "id": "99dd2572-e2d4-49c7-9a7e-84945e806916",
   "metadata": {},
   "outputs": [],
   "source": [
    "#check if the train dataset's categoris have nearly same number of texts\n",
    "min=Train_Y.value_counts().min()"
   ]
  },
  {
   "cell_type": "code",
   "execution_count": null,
   "id": "41e2f886-9010-427f-ad9b-7ac5a69511e0",
   "metadata": {},
   "outputs": [],
   "source": [
    "Tfidf_vect = TfidfVectorizer(min_df=4)\n",
    "Tfidf_vect.fit(init_df['cleaned_text'])\n",
    "Train_X_Tfidf = Tfidf_vect.transform(Train_X)\n",
    "Test_X_Tfidf = Tfidf_vect.transform(Test_X)"
   ]
  },
  {
   "cell_type": "code",
   "execution_count": null,
   "id": "004dd435-81a6-425c-979a-8ec5731cfbfb",
   "metadata": {},
   "outputs": [],
   "source": [
    "NB = naive_bayes.MultinomialNB(alpha=1)\n",
    "NB.fit(Train_X_Tfidf,Train_Y)\n",
    "\n",
    "# predict the labels on the test dataset\n",
    "pred_NB = NB.predict(Test_X_Tfidf)\n",
    "\n",
    "# Use accuracy_score function to get the accuracy\n",
    "print(\"Naive Bayes Accuracy Score -> \",accuracy_score(pred_NB, Test_Y)*100)\n",
    "from sklearn.metrics import accuracy_score, classification_report, confusion_matrix\n",
    "confmatrix=confusion_matrix(pred_NB, Test_Y)\n",
    "print (confmatrix)"
   ]
  },
  {
   "cell_type": "code",
   "execution_count": null,
   "id": "e09f457f-15af-46ba-9301-50c1001afe0e",
   "metadata": {},
   "outputs": [],
   "source": [
    "columns = Tfidf_vect.get_feature_names_out()\n",
    "train_tfidf_df = pd.DataFrame(Train_X_Tfidf.toarray(), columns=columns)\n",
    "test_tfidf_df = pd.DataFrame(Test_X_Tfidf.toarray(), columns=columns)"
   ]
  },
  {
   "cell_type": "code",
   "execution_count": null,
   "id": "a9c0bd43-cdfd-440c-9c77-295d29fa90c2",
   "metadata": {},
   "outputs": [],
   "source": []
  },
  {
   "cell_type": "code",
   "execution_count": null,
   "id": "caec3043-8ee2-4d3d-b31a-5771ded9f9e7",
   "metadata": {},
   "outputs": [],
   "source": []
  },
  {
   "cell_type": "code",
   "execution_count": null,
   "id": "b40fd59c-5c08-4326-a66b-49282e9407c8",
   "metadata": {},
   "outputs": [],
   "source": []
  }
 ],
 "metadata": {
  "kernelspec": {
   "display_name": "Python 3 (ipykernel)",
   "language": "python",
   "name": "python3"
  },
  "language_info": {
   "codemirror_mode": {
    "name": "ipython",
    "version": 3
   },
   "file_extension": ".py",
   "mimetype": "text/x-python",
   "name": "python",
   "nbconvert_exporter": "python",
   "pygments_lexer": "ipython3",
   "version": "3.11.6"
  }
 },
 "nbformat": 4,
 "nbformat_minor": 5
}
