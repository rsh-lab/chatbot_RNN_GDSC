{
 "cells": [
  {
   "cell_type": "code",
   "execution_count": 12,
   "metadata": {},
   "outputs": [],
   "source": [
    "import pickle\n",
    "import numpy as np\n",
    "import matplotlib.pyplot as plt\n",
    "import nltk\n",
    "from nltk.stem import PorterStemmer\n",
    "from keras.preprocessing.text import Tokenizer\n",
    "from nltk.lm import Vocabulary\n"
   ]
  },
  {
   "cell_type": "code",
   "execution_count": 3,
   "metadata": {},
   "outputs": [],
   "source": [
    "with open('train_qa.txt', 'rb') as f:\n",
    "    train_data = pickle.load(f)\n",
    "\n",
    "with open('test_qa.txt', 'rb') as f:\n",
    "    test_data = pickle.load(f)\n",
    "\n"
   ]
  },
  {
   "cell_type": "code",
   "execution_count": null,
   "metadata": {},
   "outputs": [],
   "source": [
    "train_data #data is basicallyt a lit of tuples of 3 lists, story, question, answer\n",
    "#our dictory willl have data from stories, questions and answers"
   ]
  },
  {
   "cell_type": "code",
   "execution_count": 24,
   "metadata": {},
   "outputs": [],
   "source": [
    "#vuulkding the dictionary\n",
    "dict_m=set()\n",
    "for story, question, answer in train_data:\n",
    "    dict_m = dict_m.union(set(story))\n",
    "    dict_m= dict_m.union(set(question))\n",
    "    dict_m=dict_m.union(set(answer))\n",
    "dict_m.add('no')\n",
    "dict_m.add('yes')"
   ]
  },
  {
   "cell_type": "code",
   "execution_count": 19,
   "metadata": {},
   "outputs": [],
   "source": [
    "#making the tokenizer fit on the train data\n",
    "tokenizer = Tokenizer(filters=[])\n",
    "tokenizer.fit_on_texts(dict_m)"
   ]
  },
  {
   "cell_type": "code",
   "execution_count": 21,
   "metadata": {},
   "outputs": [
    {
     "data": {
      "text/plain": [
       "{'put': 1,\n",
       " 'mary': 2,\n",
       " 'n': 3,\n",
       " 'back': 4,\n",
       " 'took': 5,\n",
       " 'is': 6,\n",
       " 'got': 7,\n",
       " 'discarded': 8,\n",
       " 'bathroom': 9,\n",
       " 'dropped': 10,\n",
       " 'up': 11,\n",
       " 'the': 12,\n",
       " 'down': 13,\n",
       " 'kitchen': 14,\n",
       " 'to': 15,\n",
       " 'in': 16,\n",
       " 'picked': 17,\n",
       " 'daniel': 18,\n",
       " 'o': 19,\n",
       " '?': 20,\n",
       " '.': 21,\n",
       " 's': 22,\n",
       " 'went': 23,\n",
       " 'hallway': 24,\n",
       " 'sandra': 25,\n",
       " 'office': 26,\n",
       " 'y': 27,\n",
       " 'milk': 28,\n",
       " 'left': 29,\n",
       " 'travelled': 30,\n",
       " 'there': 31,\n",
       " 'moved': 32,\n",
       " 'journeyed': 33,\n",
       " 'garden': 34,\n",
       " 'grabbed': 35,\n",
       " 'football': 36,\n",
       " 'john': 37,\n",
       " 'bedroom': 38,\n",
       " 'e': 39,\n",
       " 'apple': 40}"
      ]
     },
     "execution_count": 21,
     "metadata": {},
     "output_type": "execute_result"
    }
   ],
   "source": [
    "tokenizer.word_index"
   ]
  },
  {
   "cell_type": "code",
   "execution_count": 23,
   "metadata": {},
   "outputs": [
    {
     "data": {
      "text/plain": [
       "[[], []]"
      ]
     },
     "execution_count": 23,
     "metadata": {},
     "output_type": "execute_result"
    }
   ],
   "source": [
    "tokenizer.texts_to_sequences(['this'])"
   ]
  },
  {
   "cell_type": "markdown",
   "metadata": {},
   "source": [
    "Writing the data for encoders"
   ]
  },
  {
   "cell_type": "code",
   "execution_count": null,
   "metadata": {},
   "outputs": [],
   "source": [
    "#encdoer M\n",
    "enc=Sequential()\n",
    "enc"
   ]
  }
 ],
 "metadata": {
  "kernelspec": {
   "display_name": "Python 3",
   "language": "python",
   "name": "python3"
  },
  "language_info": {
   "codemirror_mode": {
    "name": "ipython",
    "version": 3
   },
   "file_extension": ".py",
   "mimetype": "text/x-python",
   "name": "python",
   "nbconvert_exporter": "python",
   "pygments_lexer": "ipython3",
   "version": "3.11.9"
  }
 },
 "nbformat": 4,
 "nbformat_minor": 2
}
